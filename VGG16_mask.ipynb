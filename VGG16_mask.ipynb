{
  "nbformat": 4,
  "nbformat_minor": 0,
  "metadata": {
    "colab": {
      "name": "VGG16-mask.ipynb",
      "provenance": []
    },
    "kernelspec": {
      "name": "python3",
      "display_name": "Python 3"
    },
    "accelerator": "GPU"
  },
  "cells": [
    {
      "cell_type": "code",
      "metadata": {
        "id": "SLhQMZ3wKvxR"
      },
      "source": [
        "import keras, os\n",
        "from keras.models import Sequential\n",
        "from keras.layers import Dense, Conv2D, MaxPool2D, Flatten\n",
        "from keras.preprocessing.image import ImageDataGenerator\n",
        "from keras.optimizers import Adam\n",
        "from keras.callbacks import ModelCheckpoint, EarlyStopping\n",
        "import matplotlib.pyplot as plt\n",
        "import numpy as np\n",
        "import time"
      ],
      "execution_count": 1,
      "outputs": []
    },
    {
      "cell_type": "code",
      "metadata": {
        "id": "HXVXMmALK5VY",
        "outputId": "775ae2c5-1b32-4a3b-eca7-72f9c5c79564",
        "colab": {
          "base_uri": "https://localhost:8080/"
        }
      },
      "source": [
        "from google.colab import drive\n",
        "drive.mount('/content/drive')\n",
        "!ls \"/content/drive/My Drive/Colab Notebooks\""
      ],
      "execution_count": 2,
      "outputs": [
        {
          "output_type": "stream",
          "text": [
            "Mounted at /content/drive\n",
            "2020_CARLA_challenge\t\t      pretrained_weights\n",
            "Assignment1-Regression.ipynb\t      test\n",
            "data\t\t\t\t      test_ford\n",
            "DAVEII-LSTM.ipynb\t\t      Untitled0.ipynb\n",
            "deepnncar-classification-dataset      Untitled1.ipynb\n",
            "deepnncar-classification-dataset.zip  Untitled2.ipynb\n",
            "DeepNNCar.ipynb\t\t\t      validation\n",
            "deepnncar-regression-dataset.csv      VGG16-mask.ipynb\n",
            "Effects_Of_Modifying_Alpha.eps\t      VGG.ipynb\n",
            "masks\n"
          ],
          "name": "stdout"
        }
      ]
    },
    {
      "cell_type": "code",
      "metadata": {
        "id": "UfLjO2zgK81R",
        "outputId": "c6d62645-58dc-406b-c1fb-d4a4f10a07da",
        "colab": {
          "base_uri": "https://localhost:8080/"
        }
      },
      "source": [
        "trdata = ImageDataGenerator()\n",
        "traindata = trdata.flow_from_directory(directory=\"/content/drive/My Drive/Colab Notebooks/masks/train\", target_size=(224,224))\n",
        "vdata = ImageDataGenerator()\n",
        "valdata = vdata.flow_from_directory(directory=\"/content/drive/My Drive/Colab Notebooks/masks/validation\", target_size=(224,224))"
      ],
      "execution_count": 4,
      "outputs": [
        {
          "output_type": "stream",
          "text": [
            "Found 1949 images belonging to 2 classes.\n",
            "Found 591 images belonging to 2 classes.\n"
          ],
          "name": "stdout"
        }
      ]
    },
    {
      "cell_type": "code",
      "metadata": {
        "id": "jr_wVMqCMOYQ"
      },
      "source": [
        "model = Sequential()\n",
        "model.add(Conv2D(input_shape=(224,224,3),filters=64,kernel_size=(3,3),padding=\"same\", activation=\"relu\"))\n",
        "model.add(Conv2D(filters=64,kernel_size=(3,3),padding=\"same\", activation=\"relu\"))\n",
        "model.add(MaxPool2D(pool_size=(2,2),strides=(2,2)))\n",
        "\n",
        "model.add(Conv2D(filters=128, kernel_size=(3,3), padding=\"same\", activation=\"relu\"))\n",
        "model.add(Conv2D(filters=128, kernel_size=(3,3), padding=\"same\", activation=\"relu\"))\n",
        "model.add(MaxPool2D(pool_size=(2,2),strides=(2,2)))\n",
        "\n",
        "model.add(Conv2D(filters=256, kernel_size=(3,3), padding=\"same\", activation=\"relu\"))\n",
        "model.add(Conv2D(filters=256, kernel_size=(3,3), padding=\"same\", activation=\"relu\"))\n",
        "model.add(Conv2D(filters=256, kernel_size=(3,3), padding=\"same\", activation=\"relu\"))\n",
        "model.add(MaxPool2D(pool_size=(2,2),strides=(2,2)))\n",
        "\n",
        "model.add(Conv2D(filters=512, kernel_size=(3,3), padding=\"same\", activation=\"relu\"))\n",
        "model.add(Conv2D(filters=512, kernel_size=(3,3), padding=\"same\", activation=\"relu\"))\n",
        "model.add(Conv2D(filters=512, kernel_size=(3,3), padding=\"same\", activation=\"relu\"))\n",
        "model.add(MaxPool2D(pool_size=(2,2),strides=(2,2)))\n",
        "\n",
        "model.add(Conv2D(filters=512, kernel_size=(3,3), padding=\"same\", activation=\"relu\"))\n",
        "model.add(Conv2D(filters=512, kernel_size=(3,3), padding=\"same\", activation=\"relu\"))\n",
        "model.add(Conv2D(filters=512, kernel_size=(3,3), padding=\"same\", activation=\"relu\"))\n",
        "model.add(MaxPool2D(pool_size=(2,2),strides=(2,2)))\n",
        "\n",
        "model.add(Flatten())\n",
        "model.add(Dense(units=4096,activation=\"relu\"))\n",
        "model.add(Dense(units=4096,activation=\"relu\"))\n",
        "model.add(Dense(units=2, activation=\"softmax\"))"
      ],
      "execution_count": 5,
      "outputs": []
    },
    {
      "cell_type": "code",
      "metadata": {
        "id": "NCri4HPlMQ1e",
        "outputId": "43539843-ffb0-4afe-cc48-37a840ddef13",
        "colab": {
          "base_uri": "https://localhost:8080/"
        }
      },
      "source": [
        "opt = Adam(lr=0.000005)\n",
        "model.compile(optimizer=opt, loss=keras.losses.categorical_crossentropy, metrics=['accuracy'])\n",
        "model.summary()"
      ],
      "execution_count": 6,
      "outputs": [
        {
          "output_type": "stream",
          "text": [
            "Model: \"sequential\"\n",
            "_________________________________________________________________\n",
            "Layer (type)                 Output Shape              Param #   \n",
            "=================================================================\n",
            "conv2d (Conv2D)              (None, 224, 224, 64)      1792      \n",
            "_________________________________________________________________\n",
            "conv2d_1 (Conv2D)            (None, 224, 224, 64)      36928     \n",
            "_________________________________________________________________\n",
            "max_pooling2d (MaxPooling2D) (None, 112, 112, 64)      0         \n",
            "_________________________________________________________________\n",
            "conv2d_2 (Conv2D)            (None, 112, 112, 128)     73856     \n",
            "_________________________________________________________________\n",
            "conv2d_3 (Conv2D)            (None, 112, 112, 128)     147584    \n",
            "_________________________________________________________________\n",
            "max_pooling2d_1 (MaxPooling2 (None, 56, 56, 128)       0         \n",
            "_________________________________________________________________\n",
            "conv2d_4 (Conv2D)            (None, 56, 56, 256)       295168    \n",
            "_________________________________________________________________\n",
            "conv2d_5 (Conv2D)            (None, 56, 56, 256)       590080    \n",
            "_________________________________________________________________\n",
            "conv2d_6 (Conv2D)            (None, 56, 56, 256)       590080    \n",
            "_________________________________________________________________\n",
            "max_pooling2d_2 (MaxPooling2 (None, 28, 28, 256)       0         \n",
            "_________________________________________________________________\n",
            "conv2d_7 (Conv2D)            (None, 28, 28, 512)       1180160   \n",
            "_________________________________________________________________\n",
            "conv2d_8 (Conv2D)            (None, 28, 28, 512)       2359808   \n",
            "_________________________________________________________________\n",
            "conv2d_9 (Conv2D)            (None, 28, 28, 512)       2359808   \n",
            "_________________________________________________________________\n",
            "max_pooling2d_3 (MaxPooling2 (None, 14, 14, 512)       0         \n",
            "_________________________________________________________________\n",
            "conv2d_10 (Conv2D)           (None, 14, 14, 512)       2359808   \n",
            "_________________________________________________________________\n",
            "conv2d_11 (Conv2D)           (None, 14, 14, 512)       2359808   \n",
            "_________________________________________________________________\n",
            "conv2d_12 (Conv2D)           (None, 14, 14, 512)       2359808   \n",
            "_________________________________________________________________\n",
            "max_pooling2d_4 (MaxPooling2 (None, 7, 7, 512)         0         \n",
            "_________________________________________________________________\n",
            "flatten (Flatten)            (None, 25088)             0         \n",
            "_________________________________________________________________\n",
            "dense (Dense)                (None, 4096)              102764544 \n",
            "_________________________________________________________________\n",
            "dense_1 (Dense)              (None, 4096)              16781312  \n",
            "_________________________________________________________________\n",
            "dense_2 (Dense)              (None, 2)                 8194      \n",
            "=================================================================\n",
            "Total params: 134,268,738\n",
            "Trainable params: 134,268,738\n",
            "Non-trainable params: 0\n",
            "_________________________________________________________________\n"
          ],
          "name": "stdout"
        }
      ]
    },
    {
      "cell_type": "code",
      "metadata": {
        "id": "DMBonaWLMUCk",
        "outputId": "855dfa34-adf5-4434-d738-7571915ffbea",
        "colab": {
          "base_uri": "https://localhost:8080/"
        }
      },
      "source": [
        "checkpoint = ModelCheckpoint(\"vgg16_mask.h5\", monitor='val_accuracy', verbose=1, save_best_only=True, save_weights_only=False, mode='auto', period=1)\n",
        "early = EarlyStopping(monitor='val_accuracy', min_delta=0, patience=20, verbose=1, mode='auto')\n",
        "start_time = time.time()\n",
        "hist = model.fit_generator(steps_per_epoch=7,generator=traindata, validation_data=valdata, validation_steps=10, epochs=100, callbacks=[checkpoint,early])\n",
        "print(\"--- %s seconds ---\" % (time.time() - start_time))"
      ],
      "execution_count": 7,
      "outputs": [
        {
          "output_type": "stream",
          "text": [
            "WARNING:tensorflow:`period` argument is deprecated. Please use `save_freq` to specify the frequency in number of batches seen.\n",
            "WARNING:tensorflow:From <ipython-input-7-0718ac53cdfe>:4: Model.fit_generator (from tensorflow.python.keras.engine.training) is deprecated and will be removed in a future version.\n",
            "Instructions for updating:\n",
            "Please use Model.fit, which supports generators.\n",
            "Epoch 1/100\n",
            "2/7 [=======>......................] - ETA: 1s - loss: 0.7144 - accuracy: 0.5625WARNING:tensorflow:Callbacks method `on_train_batch_end` is slow compared to the batch time (batch time: 0.1159s vs `on_train_batch_end` time: 0.2906s). Check your callbacks.\n",
            "7/7 [==============================] - ETA: 0s - loss: 0.7139 - accuracy: 0.5089\n",
            "Epoch 00001: val_accuracy improved from -inf to 0.85625, saving model to vgg16_mask.h5\n",
            "7/7 [==============================] - 134s 19s/step - loss: 0.7139 - accuracy: 0.5089 - val_loss: 0.5920 - val_accuracy: 0.8562\n",
            "Epoch 2/100\n",
            "7/7 [==============================] - ETA: 0s - loss: 0.5933 - accuracy: 0.6968\n",
            "Epoch 00002: val_accuracy did not improve from 0.85625\n",
            "7/7 [==============================] - 75s 11s/step - loss: 0.5933 - accuracy: 0.6968 - val_loss: 0.5179 - val_accuracy: 0.8156\n",
            "Epoch 3/100\n",
            "7/7 [==============================] - ETA: 0s - loss: 0.4739 - accuracy: 0.9062\n",
            "Epoch 00003: val_accuracy improved from 0.85625 to 0.90938, saving model to vgg16_mask.h5\n",
            "7/7 [==============================] - 73s 10s/step - loss: 0.4739 - accuracy: 0.9062 - val_loss: 0.4286 - val_accuracy: 0.9094\n",
            "Epoch 4/100\n",
            "7/7 [==============================] - ETA: 0s - loss: 0.3840 - accuracy: 0.9062\n",
            "Epoch 00004: val_accuracy improved from 0.90938 to 0.93750, saving model to vgg16_mask.h5\n",
            "7/7 [==============================] - 56s 8s/step - loss: 0.3840 - accuracy: 0.9062 - val_loss: 0.2937 - val_accuracy: 0.9375\n",
            "Epoch 5/100\n",
            "7/7 [==============================] - ETA: 0s - loss: 0.2632 - accuracy: 0.9152\n",
            "Epoch 00005: val_accuracy did not improve from 0.93750\n",
            "7/7 [==============================] - 39s 6s/step - loss: 0.2632 - accuracy: 0.9152 - val_loss: 0.2308 - val_accuracy: 0.9312\n",
            "Epoch 6/100\n",
            "7/7 [==============================] - ETA: 0s - loss: 0.2190 - accuracy: 0.9196\n",
            "Epoch 00006: val_accuracy did not improve from 0.93750\n",
            "7/7 [==============================] - 33s 5s/step - loss: 0.2190 - accuracy: 0.9196 - val_loss: 0.1727 - val_accuracy: 0.9375\n",
            "Epoch 7/100\n",
            "7/7 [==============================] - ETA: 0s - loss: 0.2054 - accuracy: 0.9241\n",
            "Epoch 00007: val_accuracy improved from 0.93750 to 0.94687, saving model to vgg16_mask.h5\n",
            "7/7 [==============================] - 43s 6s/step - loss: 0.2054 - accuracy: 0.9241 - val_loss: 0.1474 - val_accuracy: 0.9469\n",
            "Epoch 8/100\n",
            "7/7 [==============================] - ETA: 0s - loss: 0.1242 - accuracy: 0.9732\n",
            "Epoch 00008: val_accuracy did not improve from 0.94687\n",
            "7/7 [==============================] - 25s 4s/step - loss: 0.1242 - accuracy: 0.9732 - val_loss: 0.1862 - val_accuracy: 0.9281\n",
            "Epoch 9/100\n",
            "7/7 [==============================] - ETA: 0s - loss: 0.1657 - accuracy: 0.9286\n",
            "Epoch 00009: val_accuracy improved from 0.94687 to 0.95000, saving model to vgg16_mask.h5\n",
            "7/7 [==============================] - 31s 4s/step - loss: 0.1657 - accuracy: 0.9286 - val_loss: 0.1133 - val_accuracy: 0.9500\n",
            "Epoch 10/100\n",
            "7/7 [==============================] - ETA: 0s - loss: 0.1186 - accuracy: 0.9509\n",
            "Epoch 00010: val_accuracy improved from 0.95000 to 0.96562, saving model to vgg16_mask.h5\n",
            "7/7 [==============================] - 33s 5s/step - loss: 0.1186 - accuracy: 0.9509 - val_loss: 0.0995 - val_accuracy: 0.9656\n",
            "Epoch 11/100\n",
            "7/7 [==============================] - ETA: 0s - loss: 0.0911 - accuracy: 0.9732\n",
            "Epoch 00011: val_accuracy did not improve from 0.96562\n",
            "7/7 [==============================] - 22s 3s/step - loss: 0.0911 - accuracy: 0.9732 - val_loss: 0.1041 - val_accuracy: 0.9656\n",
            "Epoch 12/100\n",
            "7/7 [==============================] - ETA: 0s - loss: 0.0980 - accuracy: 0.9729\n",
            "Epoch 00012: val_accuracy did not improve from 0.96562\n",
            "7/7 [==============================] - 20s 3s/step - loss: 0.0980 - accuracy: 0.9729 - val_loss: 0.0877 - val_accuracy: 0.9563\n",
            "Epoch 13/100\n",
            "7/7 [==============================] - ETA: 0s - loss: 0.0673 - accuracy: 0.9777\n",
            "Epoch 00013: val_accuracy did not improve from 0.96562\n",
            "7/7 [==============================] - 21s 3s/step - loss: 0.0673 - accuracy: 0.9777 - val_loss: 0.0964 - val_accuracy: 0.9656\n",
            "Epoch 14/100\n",
            "7/7 [==============================] - ETA: 0s - loss: 0.0746 - accuracy: 0.9821\n",
            "Epoch 00014: val_accuracy improved from 0.96562 to 0.97812, saving model to vgg16_mask.h5\n",
            "7/7 [==============================] - 31s 4s/step - loss: 0.0746 - accuracy: 0.9821 - val_loss: 0.0598 - val_accuracy: 0.9781\n",
            "Epoch 15/100\n",
            "7/7 [==============================] - ETA: 0s - loss: 0.0912 - accuracy: 0.9643\n",
            "Epoch 00015: val_accuracy did not improve from 0.97812\n",
            "7/7 [==============================] - 17s 2s/step - loss: 0.0912 - accuracy: 0.9643 - val_loss: 0.0765 - val_accuracy: 0.9656\n",
            "Epoch 16/100\n",
            "7/7 [==============================] - ETA: 0s - loss: 0.0505 - accuracy: 0.9821\n",
            "Epoch 00016: val_accuracy did not improve from 0.97812\n",
            "7/7 [==============================] - 16s 2s/step - loss: 0.0505 - accuracy: 0.9821 - val_loss: 0.0636 - val_accuracy: 0.9719\n",
            "Epoch 17/100\n",
            "7/7 [==============================] - ETA: 0s - loss: 0.0476 - accuracy: 0.9819\n",
            "Epoch 00017: val_accuracy did not improve from 0.97812\n",
            "7/7 [==============================] - 15s 2s/step - loss: 0.0476 - accuracy: 0.9819 - val_loss: 0.0858 - val_accuracy: 0.9750\n",
            "Epoch 18/100\n",
            "7/7 [==============================] - ETA: 0s - loss: 0.0572 - accuracy: 0.9911\n",
            "Epoch 00018: val_accuracy did not improve from 0.97812\n",
            "7/7 [==============================] - 16s 2s/step - loss: 0.0572 - accuracy: 0.9911 - val_loss: 0.0453 - val_accuracy: 0.9781\n",
            "Epoch 19/100\n",
            "7/7 [==============================] - ETA: 0s - loss: 0.0488 - accuracy: 0.9777\n",
            "Epoch 00019: val_accuracy did not improve from 0.97812\n",
            "7/7 [==============================] - 16s 2s/step - loss: 0.0488 - accuracy: 0.9777 - val_loss: 0.0404 - val_accuracy: 0.9781\n",
            "Epoch 20/100\n",
            "7/7 [==============================] - ETA: 0s - loss: 0.0736 - accuracy: 0.9732\n",
            "Epoch 00020: val_accuracy did not improve from 0.97812\n",
            "7/7 [==============================] - 16s 2s/step - loss: 0.0736 - accuracy: 0.9732 - val_loss: 0.0732 - val_accuracy: 0.9781\n",
            "Epoch 21/100\n",
            "7/7 [==============================] - ETA: 0s - loss: 0.0706 - accuracy: 0.9643\n",
            "Epoch 00021: val_accuracy improved from 0.97812 to 0.98438, saving model to vgg16_mask.h5\n",
            "7/7 [==============================] - 27s 4s/step - loss: 0.0706 - accuracy: 0.9643 - val_loss: 0.0429 - val_accuracy: 0.9844\n",
            "Epoch 22/100\n",
            "7/7 [==============================] - ETA: 0s - loss: 0.0265 - accuracy: 0.9911\n",
            "Epoch 00022: val_accuracy did not improve from 0.98438\n",
            "7/7 [==============================] - 13s 2s/step - loss: 0.0265 - accuracy: 0.9911 - val_loss: 0.0487 - val_accuracy: 0.9844\n",
            "Epoch 23/100\n",
            "7/7 [==============================] - ETA: 0s - loss: 0.0502 - accuracy: 0.9911\n",
            "Epoch 00023: val_accuracy did not improve from 0.98438\n",
            "7/7 [==============================] - 13s 2s/step - loss: 0.0502 - accuracy: 0.9911 - val_loss: 0.0501 - val_accuracy: 0.9812\n",
            "Epoch 24/100\n",
            "7/7 [==============================] - ETA: 0s - loss: 0.0283 - accuracy: 0.9955\n",
            "Epoch 00024: val_accuracy did not improve from 0.98438\n",
            "7/7 [==============================] - 13s 2s/step - loss: 0.0283 - accuracy: 0.9955 - val_loss: 0.0391 - val_accuracy: 0.9781\n",
            "Epoch 25/100\n",
            "7/7 [==============================] - ETA: 0s - loss: 0.0189 - accuracy: 0.9955\n",
            "Epoch 00025: val_accuracy did not improve from 0.98438\n",
            "7/7 [==============================] - 12s 2s/step - loss: 0.0189 - accuracy: 0.9955 - val_loss: 0.0408 - val_accuracy: 0.9844\n",
            "Epoch 26/100\n",
            "7/7 [==============================] - ETA: 0s - loss: 0.0237 - accuracy: 0.9955\n",
            "Epoch 00026: val_accuracy improved from 0.98438 to 0.99687, saving model to vgg16_mask.h5\n",
            "7/7 [==============================] - 26s 4s/step - loss: 0.0237 - accuracy: 0.9955 - val_loss: 0.0211 - val_accuracy: 0.9969\n",
            "Epoch 27/100\n",
            "7/7 [==============================] - ETA: 0s - loss: 0.0446 - accuracy: 0.9911\n",
            "Epoch 00027: val_accuracy did not improve from 0.99687\n",
            "7/7 [==============================] - 13s 2s/step - loss: 0.0446 - accuracy: 0.9911 - val_loss: 0.0454 - val_accuracy: 0.9812\n",
            "Epoch 28/100\n",
            "7/7 [==============================] - ETA: 0s - loss: 0.0263 - accuracy: 0.9910\n",
            "Epoch 00028: val_accuracy did not improve from 0.99687\n",
            "7/7 [==============================] - 12s 2s/step - loss: 0.0263 - accuracy: 0.9910 - val_loss: 0.0486 - val_accuracy: 0.9844\n",
            "Epoch 29/100\n",
            "7/7 [==============================] - ETA: 0s - loss: 0.0108 - accuracy: 1.0000\n",
            "Epoch 00029: val_accuracy did not improve from 0.99687\n",
            "7/7 [==============================] - 13s 2s/step - loss: 0.0108 - accuracy: 1.0000 - val_loss: 0.0286 - val_accuracy: 0.9906\n",
            "Epoch 30/100\n",
            "7/7 [==============================] - ETA: 0s - loss: 0.0064 - accuracy: 1.0000\n",
            "Epoch 00030: val_accuracy did not improve from 0.99687\n",
            "7/7 [==============================] - 13s 2s/step - loss: 0.0064 - accuracy: 1.0000 - val_loss: 0.0263 - val_accuracy: 0.9906\n",
            "Epoch 31/100\n",
            "7/7 [==============================] - ETA: 0s - loss: 0.0354 - accuracy: 0.9866\n",
            "Epoch 00031: val_accuracy did not improve from 0.99687\n",
            "7/7 [==============================] - 12s 2s/step - loss: 0.0354 - accuracy: 0.9866 - val_loss: 0.0345 - val_accuracy: 0.9812\n",
            "Epoch 32/100\n",
            "7/7 [==============================] - ETA: 0s - loss: 0.0118 - accuracy: 1.0000\n",
            "Epoch 00032: val_accuracy did not improve from 0.99687\n",
            "7/7 [==============================] - 11s 2s/step - loss: 0.0118 - accuracy: 1.0000 - val_loss: 0.0297 - val_accuracy: 0.9906\n",
            "Epoch 33/100\n",
            "7/7 [==============================] - ETA: 0s - loss: 0.0218 - accuracy: 0.9955\n",
            "Epoch 00033: val_accuracy did not improve from 0.99687\n",
            "7/7 [==============================] - 12s 2s/step - loss: 0.0218 - accuracy: 0.9955 - val_loss: 0.0210 - val_accuracy: 0.9906\n",
            "Epoch 34/100\n",
            "7/7 [==============================] - ETA: 0s - loss: 0.0113 - accuracy: 1.0000\n",
            "Epoch 00034: val_accuracy did not improve from 0.99687\n",
            "7/7 [==============================] - 12s 2s/step - loss: 0.0113 - accuracy: 1.0000 - val_loss: 0.0248 - val_accuracy: 0.9906\n",
            "Epoch 35/100\n",
            "7/7 [==============================] - ETA: 0s - loss: 0.0200 - accuracy: 0.9955\n",
            "Epoch 00035: val_accuracy did not improve from 0.99687\n",
            "7/7 [==============================] - 12s 2s/step - loss: 0.0200 - accuracy: 0.9955 - val_loss: 0.0384 - val_accuracy: 0.9844\n",
            "Epoch 36/100\n",
            "7/7 [==============================] - ETA: 0s - loss: 0.0535 - accuracy: 0.9866\n",
            "Epoch 00036: val_accuracy did not improve from 0.99687\n",
            "7/7 [==============================] - 12s 2s/step - loss: 0.0535 - accuracy: 0.9866 - val_loss: 0.0392 - val_accuracy: 0.9906\n",
            "Epoch 37/100\n",
            "7/7 [==============================] - ETA: 0s - loss: 0.0166 - accuracy: 1.0000\n",
            "Epoch 00037: val_accuracy did not improve from 0.99687\n",
            "7/7 [==============================] - 11s 2s/step - loss: 0.0166 - accuracy: 1.0000 - val_loss: 0.0203 - val_accuracy: 0.9906\n",
            "Epoch 38/100\n",
            "7/7 [==============================] - ETA: 0s - loss: 0.0107 - accuracy: 1.0000\n",
            "Epoch 00038: val_accuracy did not improve from 0.99687\n",
            "7/7 [==============================] - 12s 2s/step - loss: 0.0107 - accuracy: 1.0000 - val_loss: 0.0205 - val_accuracy: 0.9969\n",
            "Epoch 39/100\n",
            "7/7 [==============================] - ETA: 0s - loss: 0.0159 - accuracy: 0.9955\n",
            "Epoch 00039: val_accuracy did not improve from 0.99687\n",
            "7/7 [==============================] - 12s 2s/step - loss: 0.0159 - accuracy: 0.9955 - val_loss: 0.0207 - val_accuracy: 0.9906\n",
            "Epoch 40/100\n",
            "7/7 [==============================] - ETA: 0s - loss: 0.0096 - accuracy: 1.0000\n",
            "Epoch 00040: val_accuracy did not improve from 0.99687\n",
            "7/7 [==============================] - 12s 2s/step - loss: 0.0096 - accuracy: 1.0000 - val_loss: 0.0341 - val_accuracy: 0.9844\n",
            "Epoch 41/100\n",
            "7/7 [==============================] - ETA: 0s - loss: 0.0171 - accuracy: 0.9955\n",
            "Epoch 00041: val_accuracy did not improve from 0.99687\n",
            "7/7 [==============================] - 12s 2s/step - loss: 0.0171 - accuracy: 0.9955 - val_loss: 0.0244 - val_accuracy: 0.9937\n",
            "Epoch 42/100\n",
            "7/7 [==============================] - ETA: 0s - loss: 0.0123 - accuracy: 0.9955\n",
            "Epoch 00042: val_accuracy did not improve from 0.99687\n",
            "7/7 [==============================] - 12s 2s/step - loss: 0.0123 - accuracy: 0.9955 - val_loss: 0.0300 - val_accuracy: 0.9875\n",
            "Epoch 43/100\n",
            "7/7 [==============================] - ETA: 0s - loss: 0.0240 - accuracy: 0.9911\n",
            "Epoch 00043: val_accuracy did not improve from 0.99687\n",
            "7/7 [==============================] - 11s 2s/step - loss: 0.0240 - accuracy: 0.9911 - val_loss: 0.0260 - val_accuracy: 0.9937\n",
            "Epoch 44/100\n",
            "7/7 [==============================] - ETA: 0s - loss: 0.0121 - accuracy: 0.9955\n",
            "Epoch 00044: val_accuracy did not improve from 0.99687\n",
            "7/7 [==============================] - 12s 2s/step - loss: 0.0121 - accuracy: 0.9955 - val_loss: 0.0298 - val_accuracy: 0.9937\n",
            "Epoch 45/100\n",
            "7/7 [==============================] - ETA: 0s - loss: 0.0086 - accuracy: 1.0000\n",
            "Epoch 00045: val_accuracy did not improve from 0.99687\n",
            "7/7 [==============================] - 12s 2s/step - loss: 0.0086 - accuracy: 1.0000 - val_loss: 0.0195 - val_accuracy: 0.9937\n",
            "Epoch 46/100\n",
            "7/7 [==============================] - ETA: 0s - loss: 0.0059 - accuracy: 1.0000\n",
            "Epoch 00046: val_accuracy did not improve from 0.99687\n",
            "7/7 [==============================] - 12s 2s/step - loss: 0.0059 - accuracy: 1.0000 - val_loss: 0.0181 - val_accuracy: 0.9937\n",
            "Epoch 00046: early stopping\n",
            "--- 1219.002323627472 seconds ---\n"
          ],
          "name": "stdout"
        }
      ]
    },
    {
      "cell_type": "code",
      "metadata": {
        "id": "uExbqD6iMdcY",
        "outputId": "9ac6b755-b569-4545-9bc9-67cbc0477b52",
        "colab": {
          "base_uri": "https://localhost:8080/",
          "height": 295
        }
      },
      "source": [
        "plt.plot(hist.history['accuracy'])\n",
        "plt.plot(hist.history['val_accuracy'])\n",
        "plt.plot(hist.history[\"loss\"])\n",
        "plt.plot(hist.history['val_loss'])\n",
        "plt.title(\"Model Accuracy and Loss\")\n",
        "plt.ylabel(\"Accuracy\")\n",
        "plt.xlabel(\"Epoch\")\n",
        "plt.legend([\"Training Accuracy\", \"Validation Accuracy\", \"Training Loss\", \"Validation Loss\"])\n",
        "plt.show()"
      ],
      "execution_count": 8,
      "outputs": [
        {
          "output_type": "display_data",
          "data": {
            "image/png": "[encoded data removed]",
            "text/plain": [
              "<Figure size 432x288 with 1 Axes>"
            ]
          },
          "metadata": {
            "tags": [],
            "needs_background": "light"
          }
        }
      ]
    },
    {
      "cell_type": "code",
      "metadata": {
        "id": "2-Lte95RM-UC",
        "outputId": "d99e422f-fa5c-4191-cdb6-ab3cfcbdcea4",
        "colab": {
          "base_uri": "https://localhost:8080/"
        }
      },
      "source": [
        "test_datagen = ImageDataGenerator()\n",
        "test_generator = test_datagen.flow_from_directory(directory=\"/content/drive/My Drive/Colab Notebooks/masks/test\", target_size=(224,224))\n",
        "\n",
        "from keras.models import load_model\n",
        "saved_model = load_model(\"vgg16_mask.h5\")\n",
        "score, acc = saved_model.evaluate_generator(test_generator)\n",
        "print('Test score:', score)\n",
        "print('Test accuracy:', acc)"
      ],
      "execution_count": 10,
      "outputs": [
        {
          "output_type": "stream",
          "text": [
            "Found 592 images belonging to 2 classes.\n",
            "Test score: 0.07291171699762344\n",
            "Test accuracy: 0.9797297120094299\n"
          ],
          "name": "stdout"
        }
      ]
    }
  ]
}